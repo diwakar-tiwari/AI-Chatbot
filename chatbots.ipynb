{
 "cells": [
  {
   "cell_type": "code",
   "execution_count": 1,
   "id": "32815f96",
   "metadata": {},
   "outputs": [
    {
     "data": {
      "text/plain": [
       "'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'"
      ]
     },
     "execution_count": 1,
     "metadata": {},
     "output_type": "execute_result"
    }
   ],
   "source": [
    "import os\n",
    "from dotenv import load_dotenv\n",
    "load_dotenv()\n",
    "\n",
    "groq_api_key = os.getenv(\"GROQ_API_KEY\")\n",
    "groq_api_key\n"
   ]
  },
  {
   "cell_type": "code",
   "execution_count": 2,
   "id": "a9458207",
   "metadata": {},
   "outputs": [
    {
     "data": {
      "text/plain": [
       "ChatGroq(client=<groq.resources.chat.completions.Completions object at 0x00000216380AA1A0>, async_client=<groq.resources.chat.completions.AsyncCompletions object at 0x00000216380AB610>, model_name='Gemma2-9b-It', model_kwargs={}, groq_api_key=SecretStr('**********'))"
      ]
     },
     "execution_count": 2,
     "metadata": {},
     "output_type": "execute_result"
    }
   ],
   "source": [
    "## Loading the model\n",
    "from langchain_groq import ChatGroq\n",
    "model = ChatGroq(model = 'Gemma2-9b-It', groq_api_key = groq_api_key)\n",
    "model"
   ]
  },
  {
   "cell_type": "code",
   "execution_count": 4,
   "id": "69aa283b",
   "metadata": {},
   "outputs": [
    {
     "data": {
      "text/plain": [
       "AIMessage(content=\"Hello Diwakar Tiwari!\\n\\nIt's nice to meet you.  \\n\\nBackend development is a fascinating field. What kind of technologies do you primarily work with?  \\n\\nI'm always eager to learn more about different aspects of software development.\\n\", additional_kwargs={}, response_metadata={'token_usage': {'completion_tokens': 54, 'prompt_tokens': 24, 'total_tokens': 78, 'completion_time': 0.098181818, 'prompt_time': 0.002126046, 'queue_time': 0.232345153, 'total_time': 0.100307864}, 'model_name': 'Gemma2-9b-It', 'system_fingerprint': 'fp_10c08bf97d', 'finish_reason': 'stop', 'logprobs': None}, id='run-9a6eb3a5-a285-43e4-988c-33faf24b93ee-0', usage_metadata={'input_tokens': 24, 'output_tokens': 54, 'total_tokens': 78})"
      ]
     },
     "execution_count": 4,
     "metadata": {},
     "output_type": "execute_result"
    }
   ],
   "source": [
    "from langchain_core.messages import HumanMessage\n",
    "model.invoke([HumanMessage(content=\"Hello, My name is Diwakar Tiwari and working as a backend developer\")])"
   ]
  },
  {
   "cell_type": "code",
   "execution_count": null,
   "id": "c326e055",
   "metadata": {},
   "outputs": [
    {
     "data": {
      "text/plain": [
       "AIMessage(content='Your name is Diwakar Tiwari.  \\n\\nI remember it from our first conversation! 😊  How can I help you today? \\n', additional_kwargs={}, response_metadata={'token_usage': {'completion_tokens': 31, 'prompt_tokens': 92, 'total_tokens': 123, 'completion_time': 0.056363636, 'prompt_time': 0.004290191, 'queue_time': 0.232782458, 'total_time': 0.060653827}, 'model_name': 'Gemma2-9b-It', 'system_fingerprint': 'fp_10c08bf97d', 'finish_reason': 'stop', 'logprobs': None}, id='run-8ef8ecbe-3a6e-4b2e-9cfa-93e626b06d30-0', usage_metadata={'input_tokens': 92, 'output_tokens': 31, 'total_tokens': 123})"
      ]
     },
     "execution_count": 6,
     "metadata": {},
     "output_type": "execute_result"
    }
   ],
   "source": [
    "### Model can remember the previous messages\n",
    "from langchain_core.messages import AIMessage\n",
    "model.invoke(\n",
    "    [\n",
    "        HumanMessage(content=\"Hello, My name is Diwakar Tiwari and working as a backend developer\"),\n",
    "        AIMessage(content=\"Hello Diwakar Tiwari!\\n\\nIt's nice to meet you.  \\n\\nBackend development is a fascinating field. What kind of technologies do you primarily work with?  \\n\\nI'm always eager to learn more about different aspects of software development.\\n\"),\n",
    "        HumanMessage(content=\"Hey, Whats my name?\")\n",
    "    ]\n",
    ")"
   ]
  },
  {
   "cell_type": "code",
   "execution_count": null,
   "id": "43bc9298",
   "metadata": {},
   "outputs": [],
   "source": []
  },
  {
   "cell_type": "code",
   "execution_count": null,
   "id": "5756bd5a",
   "metadata": {},
   "outputs": [],
   "source": []
  }
 ],
 "metadata": {
  "kernelspec": {
   "display_name": "venv",
   "language": "python",
   "name": "python3"
  },
  "language_info": {
   "codemirror_mode": {
    "name": "ipython",
    "version": 3
   },
   "file_extension": ".py",
   "mimetype": "text/x-python",
   "name": "python",
   "nbconvert_exporter": "python",
   "pygments_lexer": "ipython3",
   "version": "3.10.0"
  }
 },
 "nbformat": 4,
 "nbformat_minor": 5
}
