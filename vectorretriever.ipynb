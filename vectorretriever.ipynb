{
 "cells": [
  {
   "cell_type": "code",
   "execution_count": null,
   "id": "e42eadad",
   "metadata": {},
   "outputs": [],
   "source": [
    "!pip install langchain\n",
    "!pip install langchain-chroma\n",
    "!pip install langchain_groq"
   ]
  },
  {
   "cell_type": "code",
   "execution_count": 2,
   "id": "f4e79e0f",
   "metadata": {},
   "outputs": [],
   "source": [
    "from langchain_core.documents import Document\n",
    "\n",
    "document = [\n",
    "    Document(\n",
    "        page_content = \"Dogs are great companions, known for their loyalty and friendliness.\",\n",
    "        metadata = {\"source\":\"mammal-pets-doc\"}\n",
    "    ),\n",
    "    Document(\n",
    "    page_content = \"Parrots are intelligent birds that can mimic human speech and form strong bonds with their owners.\",\n",
    "    metadata = {\"source\":\"bird-pets-doc\"}\n",
    "    ),\n",
    "    Document(\n",
    "        page_content = \"Goldfish are peaceful aquarium pets that can live for many years with proper care.\",\n",
    "        metadata = {\"source\":\"fish-pets-doc\"}\n",
    "    ),\n",
    "    Document(\n",
    "        page_content = \"Rabbits are social animals that require regular exercise and a diet rich in hay and vegetables.\",\n",
    "        metadata = {\"source\":\"mammal-pets-doc\"}\n",
    "    ),\n",
    "    Document(\n",
    "        page_content = \"Hamsters are nocturnal rodents that make great first pets for children due to their small size and simple care requirements.\",\n",
    "        metadata = {\"source\":\"mammal-pets-doc\"}\n",
    "    )\n",
    "]"
   ]
  },
  {
   "cell_type": "code",
   "execution_count": 3,
   "id": "be4c3608",
   "metadata": {},
   "outputs": [
    {
     "data": {
      "text/plain": [
       "[Document(metadata={'source': 'mammal-pets-doc'}, page_content='Dogs are great companions, known for their loyalty and friendliness.'),\n",
       " Document(metadata={'source': 'bird-pets-doc'}, page_content='Parrots are intelligent birds that can mimic human speech and form strong bonds with their owners.'),\n",
       " Document(metadata={'source': 'fish-pets-doc'}, page_content='Goldfish are peaceful aquarium pets that can live for many years with proper care.'),\n",
       " Document(metadata={'source': 'mammal-pets-doc'}, page_content='Rabbits are social animals that require regular exercise and a diet rich in hay and vegetables.'),\n",
       " Document(metadata={'source': 'mammal-pets-doc'}, page_content='Hamsters are nocturnal rodents that make great first pets for children due to their small size and simple care requirements.')]"
      ]
     },
     "execution_count": 3,
     "metadata": {},
     "output_type": "execute_result"
    }
   ],
   "source": [
    "document"
   ]
  },
  {
   "cell_type": "code",
   "execution_count": null,
   "id": "9cd59871",
   "metadata": {},
   "outputs": [],
   "source": [
    "import os\n",
    "from dotenv import load_dotenv\n",
    "load_dotenv()\n",
    "from langchain_groq import ChatGroq\n",
    "\n",
    "groq_api_key = os.getenv(\"GROQ_API_KEY\")\n",
    "os.environ[\"HF_TOKEN\"] = os.getenv(\"HF_TOKEN\")\n",
    "\n",
    "llm = ChatGroq(groq_api_key= groq_api_key, model=\"Llama3-8b-8192\")\n",
    "llm"
   ]
  },
  {
   "cell_type": "code",
   "execution_count": null,
   "id": "8d91751e",
   "metadata": {},
   "outputs": [],
   "source": [
    "!pip install langchain_huggingface"
   ]
  },
  {
   "cell_type": "code",
   "execution_count": 10,
   "id": "00b5c7b5",
   "metadata": {},
   "outputs": [
    {
     "name": "stderr",
     "output_type": "stream",
     "text": [
      "d:\\Python\\venv\\lib\\site-packages\\tqdm\\auto.py:21: TqdmWarning: IProgress not found. Please update jupyter and ipywidgets. See https://ipywidgets.readthedocs.io/en/stable/user_install.html\n",
      "  from .autonotebook import tqdm as notebook_tqdm\n"
     ]
    }
   ],
   "source": [
    "from langchain_huggingface import HuggingFaceEmbeddings\n",
    "embeddings = HuggingFaceEmbeddings(model_name = \"all-MiniLM-L6-v2\")"
   ]
  },
  {
   "cell_type": "code",
   "execution_count": 11,
   "id": "e06579d5",
   "metadata": {},
   "outputs": [
    {
     "data": {
      "text/plain": [
       "<langchain_chroma.vectorstores.Chroma at 0x2653675b970>"
      ]
     },
     "execution_count": 11,
     "metadata": {},
     "output_type": "execute_result"
    }
   ],
   "source": [
    "## VectorStore -> Convert this texts into vectors(embeddings) and then store inside the vector db\n",
    "\n",
    "from langchain_chroma import Chroma\n",
    "\n",
    "vectorstore = Chroma.from_documents(document, embedding=embeddings)\n",
    "vectorstore\n"
   ]
  },
  {
   "cell_type": "code",
   "execution_count": 12,
   "id": "4a4edc1a",
   "metadata": {},
   "outputs": [
    {
     "data": {
      "text/plain": [
       "[Document(id='9168eadd-0e2f-404f-878e-2900af47ccf4', metadata={'source': 'mammal-pets-doc'}, page_content='Dogs are great companions, known for their loyalty and friendliness.'),\n",
       " Document(id='b9b8618c-915e-4c20-aeb1-20103d90f4bc', metadata={'source': 'mammal-pets-doc'}, page_content='Hamsters are nocturnal rodents that make great first pets for children due to their small size and simple care requirements.'),\n",
       " Document(id='e2598edd-acb1-4de5-a46e-08c2f55cdbf8', metadata={'source': 'mammal-pets-doc'}, page_content='Rabbits are social animals that require regular exercise and a diet rich in hay and vegetables.'),\n",
       " Document(id='2558382d-aa3d-40bd-a2bf-32b0c6b9ee48', metadata={'source': 'bird-pets-doc'}, page_content='Parrots are intelligent birds that can mimic human speech and form strong bonds with their owners.')]"
      ]
     },
     "execution_count": 12,
     "metadata": {},
     "output_type": "execute_result"
    }
   ],
   "source": [
    "vectorstore.similarity_search(\"cat\")"
   ]
  },
  {
   "cell_type": "code",
   "execution_count": 13,
   "id": "3a306a32",
   "metadata": {},
   "outputs": [
    {
     "data": {
      "text/plain": [
       "[Document(id='9168eadd-0e2f-404f-878e-2900af47ccf4', metadata={'source': 'mammal-pets-doc'}, page_content='Dogs are great companions, known for their loyalty and friendliness.'),\n",
       " Document(id='b9b8618c-915e-4c20-aeb1-20103d90f4bc', metadata={'source': 'mammal-pets-doc'}, page_content='Hamsters are nocturnal rodents that make great first pets for children due to their small size and simple care requirements.'),\n",
       " Document(id='e2598edd-acb1-4de5-a46e-08c2f55cdbf8', metadata={'source': 'mammal-pets-doc'}, page_content='Rabbits are social animals that require regular exercise and a diet rich in hay and vegetables.'),\n",
       " Document(id='2558382d-aa3d-40bd-a2bf-32b0c6b9ee48', metadata={'source': 'bird-pets-doc'}, page_content='Parrots are intelligent birds that can mimic human speech and form strong bonds with their owners.')]"
      ]
     },
     "execution_count": 13,
     "metadata": {},
     "output_type": "execute_result"
    }
   ],
   "source": [
    "## Async query\n",
    "await vectorstore.asimilarity_search(\"cat\")"
   ]
  },
  {
   "cell_type": "code",
   "execution_count": 14,
   "id": "2b52053b",
   "metadata": {},
   "outputs": [
    {
     "data": {
      "text/plain": [
       "[(Document(id='9168eadd-0e2f-404f-878e-2900af47ccf4', metadata={'source': 'mammal-pets-doc'}, page_content='Dogs are great companions, known for their loyalty and friendliness.'),\n",
       "  1.5740898847579956),\n",
       " (Document(id='b9b8618c-915e-4c20-aeb1-20103d90f4bc', metadata={'source': 'mammal-pets-doc'}, page_content='Hamsters are nocturnal rodents that make great first pets for children due to their small size and simple care requirements.'),\n",
       "  1.6415950059890747),\n",
       " (Document(id='e2598edd-acb1-4de5-a46e-08c2f55cdbf8', metadata={'source': 'mammal-pets-doc'}, page_content='Rabbits are social animals that require regular exercise and a diet rich in hay and vegetables.'),\n",
       "  1.6609950065612793),\n",
       " (Document(id='2558382d-aa3d-40bd-a2bf-32b0c6b9ee48', metadata={'source': 'bird-pets-doc'}, page_content='Parrots are intelligent birds that can mimic human speech and form strong bonds with their owners.'),\n",
       "  1.6684852838516235)]"
      ]
     },
     "execution_count": 14,
     "metadata": {},
     "output_type": "execute_result"
    }
   ],
   "source": [
    "vectorstore.similarity_search_with_score(\"cat\")"
   ]
  },
  {
   "cell_type": "code",
   "execution_count": 16,
   "id": "16f18503",
   "metadata": {},
   "outputs": [
    {
     "data": {
      "text/plain": [
       "[[Document(id='9168eadd-0e2f-404f-878e-2900af47ccf4', metadata={'source': 'mammal-pets-doc'}, page_content='Dogs are great companions, known for their loyalty and friendliness.')],\n",
       " [Document(id='9168eadd-0e2f-404f-878e-2900af47ccf4', metadata={'source': 'mammal-pets-doc'}, page_content='Dogs are great companions, known for their loyalty and friendliness.')]]"
      ]
     },
     "execution_count": 16,
     "metadata": {},
     "output_type": "execute_result"
    }
   ],
   "source": [
    "retriever = vectorstore.as_retriever(\n",
    "    search_type = \"similarity\",\n",
    "    search_kwargs = {\"k\":1}\n",
    ")\n",
    "retriever.batch([\"cat\", \"dog\"])\n",
    "\n"
   ]
  },
  {
   "cell_type": "code",
   "execution_count": 18,
   "id": "cd205719",
   "metadata": {},
   "outputs": [
    {
     "name": "stdout",
     "output_type": "stream",
     "text": [
      "According to the provided context, dogs are great companions, known for their loyalty and friendliness.\n"
     ]
    }
   ],
   "source": [
    "## RAG\n",
    "\n",
    "from langchain_core.prompts import ChatPromptTemplate\n",
    "from langchain_core.runnables import RunnablePassthrough\n",
    "\n",
    "message = \"\"\"\n",
    "Answer this question using the provided context only.\n",
    "\n",
    "{question}\n",
    "\n",
    "Context:\n",
    "{context}\n",
    "\"\"\"\n",
    "\n",
    "prompt = ChatPromptTemplate.from_messages([(\"human\", message)])\n",
    "\n",
    "rag_chain = {\"context\": retriever, \"question\":RunnablePassthrough()} | prompt | llm\n",
    "\n",
    "response = rag_chain.invoke(\"Tell me about dogs\")\n",
    "print(response.content)"
   ]
  },
  {
   "cell_type": "code",
   "execution_count": null,
   "id": "5507a798",
   "metadata": {},
   "outputs": [],
   "source": []
  }
 ],
 "metadata": {
  "kernelspec": {
   "display_name": "venv",
   "language": "python",
   "name": "python3"
  },
  "language_info": {
   "codemirror_mode": {
    "name": "ipython",
    "version": 3
   },
   "file_extension": ".py",
   "mimetype": "text/x-python",
   "name": "python",
   "nbconvert_exporter": "python",
   "pygments_lexer": "ipython3",
   "version": "3.10.0"
  }
 },
 "nbformat": 4,
 "nbformat_minor": 5
}
